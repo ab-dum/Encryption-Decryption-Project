{
 "cells": [
  {
   "cell_type": "code",
   "execution_count": null,
   "id": "c61fdb4e",
   "metadata": {},
   "outputs": [],
   "source": [
    "import rsa\n",
    "from pathlib import Path\n",
    "from Crypto.Cipher import PKCS1_OAEP\n",
    "from Crypto.PublicKey import RSA\n",
    "from datetime import datetime\n",
    "\n",
    "def encrypt_and_save_message(message, public_key_path):\n",
    "    # Reading the public key(ceu_key.pub)\n",
    "    with open(public_key_path, 'rb') as public_key_file:\n",
    "        public_key = RSA.import_key(public_key_file.read())\n",
    "\n",
    "    # Creating a PKCS1_OAEP cipher object\n",
    "    public_key_cipher = PKCS1_OAEP.new(public_key)\n",
    "\n",
    "    # Encrypting the message by using public_key_cipher\n",
    "    encrypted_message = public_key_cipher.encrypt(message.encode('utf-8'))\n",
    "\n",
    "    # Generating a unique shell script filename for each encrypted message based on the current timestamp and save it to desktop\n",
    "    timestamp = datetime.now().strftime(\"%Y%m%d%H%M%S\")\n",
    "    output_directory = '/Users/...'\n",
    "    output_file_path = f'{output_directory}encrypted_message_{timestamp}.sh'\n",
    "\n",
    "    # Writing the encrypted message to the shell script file\n",
    "    with open(output_file_path, 'wb') as output_file:\n",
    "        output_file.write(encrypted_message)\n",
    "       \n",
    "    return output_file_path\n",
    "\n",
    "# Defining the message to be encrypted by the visitor\n",
    "message = \"Ve Galatasaray Şampiyonlar Ligi Şampiyonu\"\n",
    "\n",
    "# Pathing to the public key file\n",
    "public_key_path = '/Users/...'\n",
    "\n",
    "# Encrypting and saving the message by using encrypt_and_save_message function.\n",
    "output_file_path = encrypt_and_save_message(message, public_key_path)\n",
    "\n",
    "print(f\"Encrypting Message saved to {output_file_path}\")"
   ]
  },
  {
   "cell_type": "code",
   "execution_count": null,
   "id": "ca781ead",
   "metadata": {},
   "outputs": [],
   "source": [
    "def decrypt_message(encrypting _message_path, private_key_path):\n",
    "    # Reading the encrypted message as a string\n",
    "    with open(encrypted _message_path, 'rb') as encrypted_message_file:\n",
    "        encrypted_message = encrypted_message_file.read()\n",
    "\n",
    "    # Reading the private key from local\n",
    "    with open(private_key_path, 'rb') as private_key_file:\n",
    "        private_key = RSA.import_key(private_key_file.read())\n",
    "\n",
    "    # Creating a PKCS1_OAEP cipher object with the private key\n",
    "    private_key_cipher = PKCS1_OAEP.new(private_key)\n",
    "\n",
    "    # Decoding the message using cipher\n",
    "    decrypted_message = private_key_cipher.decrypt(encrypted_message)\n",
    "\n",
    "    return decrypted_message.decode('utf-8')\n",
    "\n",
    "# Pathing to the private key file\n",
    "private_key_path = '/Users/...'\n",
    "\n",
    "# Pathing to the file containing the encrypted message\n",
    "encrypted_message_path = '/Users/...'\n",
    "\n",
    "# Decrypting the message using the private key\n",
    "decrypted_message = decrypt_message(encrypted_message_path, private_key_path)\n",
    "\n",
    "print(\"Decrypted Message:\", decrypted_message)"
   ]
  }
 ],
 "metadata": {
  "kernelspec": {
   "display_name": "Python 3 (ipykernel)",
   "language": "python",
   "name": "python3"
  },
  "language_info": {
   "codemirror_mode": {
    "name": "ipython",
    "version": 3
   },
   "file_extension": ".py",
   "mimetype": "text/x-python",
   "name": "python",
   "nbconvert_exporter": "python",
   "pygments_lexer": "ipython3",
   "version": "3.11.5"
  }
 },
 "nbformat": 4,
 "nbformat_minor": 5
}
